{
 "cells": [
  {
   "cell_type": "markdown",
   "metadata": {},
   "source": [
    "# Master Thesis Notebook"
   ]
  },
  {
   "cell_type": "code",
   "execution_count": 3,
   "metadata": {},
   "outputs": [
    {
     "ename": "SyntaxError",
     "evalue": "invalid syntax (2588386506.py, line 6)",
     "output_type": "error",
     "traceback": [
      "\u001b[1;36m  Cell \u001b[1;32mIn[3], line 6\u001b[1;36m\u001b[0m\n\u001b[1;33m    from gstat import gstat, variogram, vgm, fit.variogram\u001b[0m\n\u001b[1;37m                                                ^\u001b[0m\n\u001b[1;31mSyntaxError\u001b[0m\u001b[1;31m:\u001b[0m invalid syntax\n"
     ]
    }
   ],
   "source": [
    "import pandas as pd\n",
    "import glob \n",
    "import numpy as np\n",
    "import matplotlib.pyplot as plt\n",
    "import os\n",
    "from gstat import gstat, variogram, vgm, fit.variogram\n",
    "\n",
    "field_a_paths = glob.glob(\"D:/Cours bioingé/BIR M2/Mémoire/Data/Drone GPR/Field A/*.txt\") # return all file paths that match a specific pattern\n",
    "field_b_paths = glob.glob(\"D:/Cours bioingé/BIR M2/Mémoire/Data/Drone GPR/Field B/*.txt\")\n",
    "\n",
    "gpr_data_tables = []\n",
    "def import_data(file_paths=glob.glob(\"D:/Cours bioingé/BIR M2/Mémoire/Data/Drone GPR/Field A/*.txt\")):\n",
    "    for file_path in file_paths:\n",
    "        gpr_data_table = pd.read_csv(file_path, sep = \"  \", engine=\"python\")\n",
    "        gpr_data_tables.append(gpr_data_table)\n",
    "\n",
    "    return gpr_data_tables\n",
    "\n",
    "dates = []\n",
    "def extract_dates(file_paths=glob.glob(\"D:/Cours bioingé/BIR M2/Mémoire/Data/Drone GPR/Field A/*.txt\")):\n",
    "    for file_path in file_paths:\n",
    "        file_name = os.path.basename(file_path)\n",
    "        file_name_without_extension = os.path.splitext(file_name)[0]\n",
    "        \n",
    "        date = file_name_without_extension[4:6] + \"/\" + file_name_without_extension[2:4] + \"/\" + \"20\" + file_name_without_extension[:2]\n",
    "        dates.append(date)\n",
    "\n",
    "    return dates\n",
    "\n",
    "\n",
    "\n",
    "\n",
    "    "
   ]
  },
  {
   "cell_type": "markdown",
   "metadata": {},
   "source": [
    "## GPR data analysis"
   ]
  },
  {
   "cell_type": "markdown",
   "metadata": {},
   "source": [
    "### Volumetric water content evolution of field A"
   ]
  },
  {
   "cell_type": "markdown",
   "metadata": {},
   "source": [
    "#### Mean and median plots"
   ]
  },
  {
   "cell_type": "code",
   "execution_count": null,
   "metadata": {},
   "outputs": [],
   "source": [
    "import_data(field_a_paths)\n",
    "\n",
    "mean_GPR_data_tables = []\n",
    "for gpr_data_table in gpr_data_tables:\n",
    "    mean_GPR_data_table = gpr_data_table.iloc[:,2].mean()\n",
    "    mean_GPR_data_tables.append(mean_GPR_data_table)\n",
    "\n",
    "median_GPR_data_tables = []\n",
    "for gpr_data_table in gpr_data_tables:\n",
    "    median_GPR_data_table = gpr_data_table.iloc[:,2].median()\n",
    "    median_GPR_data_tables.append(median_GPR_data_table)\n",
    "\n",
    "dates = extract_dates(field_a_paths)\n",
    "\n",
    "# Convert dates to datetime objects\n",
    "dates = pd.to_datetime(dates, format=\"%d/%m/%Y\")\n",
    "\n",
    "plt.figure(figsize=(10, 6))\n",
    "plt.plot(dates, median_GPR_data_tables, marker='o', label='Median')\n",
    "plt.plot(dates, mean_GPR_data_tables, marker='o', label='Mean')\n",
    "plt.xlabel('Date')\n",
    "plt.ylabel('VWC [/]')\n",
    "plt.title('Evolution of Median and Mean Volumetric Water Content on field A')\n",
    "plt.xticks(rotation=45)\n",
    "plt.gca().xaxis.set_major_locator(plt.MaxNLocator(12))\n",
    "plt.ylim(0.2, 0.5)\n",
    "plt.grid(True)\n",
    "plt.legend()\n",
    "plt.show()\n",
    "\n",
    "\n",
    "# Reset\n",
    "gpr_data_tables = []\n",
    "dates = []"
   ]
  },
  {
   "cell_type": "markdown",
   "metadata": {},
   "source": [
    "### Volumetric water content evolution of field B"
   ]
  },
  {
   "cell_type": "code",
   "execution_count": null,
   "metadata": {},
   "outputs": [],
   "source": [
    "import_data(field_b_paths)\n",
    "\n",
    "mean_GPR_data_tables = []\n",
    "for gpr_data_table in gpr_data_tables:\n",
    "    mean_GPR_data_table = gpr_data_table.iloc[:,2].mean()\n",
    "    mean_GPR_data_tables.append(mean_GPR_data_table)\n",
    "\n",
    "median_GPR_data_tables = []\n",
    "for gpr_data_table in gpr_data_tables:\n",
    "    median_GPR_data_table = gpr_data_table.iloc[:,2].median()\n",
    "    median_GPR_data_tables.append(median_GPR_data_table)\n",
    "\n",
    "dates = extract_dates(field_b_paths)\n",
    "\n",
    "# Convert dates to datetime objects\n",
    "dates = pd.to_datetime(dates, format=\"%d/%m/%Y\")\n",
    "\n",
    "plt.figure(figsize=(10, 6))\n",
    "plt.plot(dates, median_GPR_data_tables, marker='o', label='Median')\n",
    "plt.plot(dates, mean_GPR_data_tables, marker='o', label='Mean')\n",
    "plt.xlabel('Date')\n",
    "plt.ylabel('VWC [/]')\n",
    "plt.title('Evolution of Median and Mean Volumetric Water Content on field B')\n",
    "plt.xticks(rotation=45)\n",
    "plt.gca().xaxis.set_major_locator(plt.MaxNLocator(12))\n",
    "plt.ylim(0.2, 0.5)\n",
    "plt.grid(True)\n",
    "plt.legend()\n",
    "plt.show()\n",
    "\n",
    "# Reset\n",
    "gpr_data_tables = []\n",
    "dates = []"
   ]
  },
  {
   "cell_type": "markdown",
   "metadata": {},
   "source": [
    "### Interpolation methods"
   ]
  },
  {
   "cell_type": "markdown",
   "metadata": {},
   "source": [
    "#### Thiessen Polygons (Voronoi Diagrams)\n",
    "\n",
    "Thiessen polygons (also known as Voronoi diagrams) polygons allow us to perform nearest neighbor interpolation, which is perhaps the most basic type of interpolation. Thiessen polygons are be constructed around each sampled point so all the space within a specific polygon is closest in distance to that sampled point (as compared to other sampled points). Then, to perform nearest neighbor interpolation, all that space is assigned the value of that sampled point."
   ]
  },
  {
   "cell_type": "code",
   "execution_count": null,
   "metadata": {},
   "outputs": [],
   "source": []
  },
  {
   "cell_type": "markdown",
   "metadata": {},
   "source": [
    "#### K-Nearest Neighbors\n",
    "KNN (also stylized as kNN) is a neighbor-based learning method that can be used for interpolation. Unlike the Thiessen polygons method, KNN looks for a specified number K of sampled points closest to an unknown point. The K known points can be used to predict the value (discrete or continuous) of the unknown point."
   ]
  },
  {
   "cell_type": "markdown",
   "metadata": {},
   "source": [
    "#### Kriging\n",
    "Kriging is a type of interpolation that uses a semivariogram, which measures spatial autocorrelation (how similar close points are in value and how this similarity changes as distance between points increases). Thus, the semivariogram determines how much influence a known point has on an unknown point as the distance between the known point and the unknown point increases. In other words, the weight of a known point on an unknown point decreases with increasing distance, and the semivariogram determines how quickly that weight tapers with increasing distance"
   ]
  },
  {
   "cell_type": "code",
   "execution_count": null,
   "metadata": {},
   "outputs": [],
   "source": []
  },
  {
   "cell_type": "markdown",
   "metadata": {},
   "source": [
    "## Multispectral analysis"
   ]
  },
  {
   "cell_type": "markdown",
   "metadata": {},
   "source": [
    "### Volumetric water content evolution of field A"
   ]
  },
  {
   "cell_type": "markdown",
   "metadata": {},
   "source": [
    "## Multispectral vs GPR"
   ]
  },
  {
   "cell_type": "markdown",
   "metadata": {},
   "source": [
    "# Tests"
   ]
  },
  {
   "cell_type": "code",
   "execution_count": null,
   "metadata": {},
   "outputs": [],
   "source": []
  }
 ],
 "metadata": {
  "kernelspec": {
   "display_name": "Python 3",
   "language": "python",
   "name": "python3"
  },
  "language_info": {
   "codemirror_mode": {
    "name": "ipython",
    "version": 3
   },
   "file_extension": ".py",
   "mimetype": "text/x-python",
   "name": "python",
   "nbconvert_exporter": "python",
   "pygments_lexer": "ipython3",
   "version": "3.12.3"
  }
 },
 "nbformat": 4,
 "nbformat_minor": 2
}
